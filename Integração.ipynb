{
 "cells": [
  {
   "cell_type": "markdown",
   "metadata": {},
   "source": [
    "# Integração Numérica"
   ]
  },
  {
   "cell_type": "markdown",
   "metadata": {},
   "source": [
    "Importando as bibliotecas utilizadas:"
   ]
  },
  {
   "cell_type": "code",
   "execution_count": 4,
   "metadata": {},
   "outputs": [],
   "source": [
    "import numpy as np\n",
    "from numba import jit\n",
    "from scipy import integrate\n",
    "import matplotlib.pyplot as plt"
   ]
  },
  {
   "cell_type": "markdown",
   "metadata": {},
   "source": [
    "Criando uma partição e a função associada:"
   ]
  },
  {
   "cell_type": "code",
   "execution_count": 18,
   "metadata": {},
   "outputs": [],
   "source": [
    "x = np.linspace(0, 1, 1000001)\n",
    "y = np.cos(x)"
   ]
  },
  {
   "cell_type": "markdown",
   "metadata": {},
   "source": [
    "## Método de Simpson"
   ]
  },
  {
   "cell_type": "markdown",
   "metadata": {},
   "source": [
    "### Definição\n",
    "A regra de Simpson utiliza um polinômio quadrático em que cada intervalo da partição aproxima a função e computa o valor da integral definida. Esse método melhora o método do trapézio, que aproxima a integral da função utilizando uma reta em cada subintervalo da partição.\n",
    "\n",
    "A fórmula de Simpson é definida por:\n",
    "\n",
    "$$\\Large{S_N(f) = \\frac{\\Delta x}{3} \\sum_{i=1}^{N/2} \\left( f(x_{2i-2}) + 4 f(x_{2i-1}) + f(x_{2i}) \\right)}$$\n",
    "\n",
    "\n",
    "em que $N$ é um número <font color='red'>**par**</font> de subintervalos de $[a,b]$, $\\Delta x = (b - a)/N$ e $x_i = a + i \\Delta x$\n"
   ]
  },
  {
   "cell_type": "markdown",
   "metadata": {},
   "source": [
    "### Implementação\n",
    "\n",
    "Define-se a função chamada `simps` Let's write a function called simps which takes input parameters"
   ]
  },
  {
   "cell_type": "code",
   "execution_count": 17,
   "metadata": {},
   "outputs": [],
   "source": [
    "def simps(f,a,b,N=50):\n",
    "    '''Approximate the integral of f(x) from a to b by Simpson's rule.\n",
    "\n",
    "    Simpson's rule approximates the integral \\int_a^b f(x) dx by the sum:\n",
    "    (dx/3) \\sum_{k=1}^{N/2} (f(x_{2i-2} + 4f(x_{2i-1}) + f(x_{2i}))\n",
    "    where x_i = a + i*dx and dx = (b - a)/N.\n",
    "\n",
    "    Parameters\n",
    "    ----------\n",
    "    f : function\n",
    "        Vectorized function of a single variable\n",
    "    a , b : numbers\n",
    "        Interval of integration [a,b]\n",
    "    N : (even) integer\n",
    "        Number of subintervals of [a,b]\n",
    "\n",
    "    Returns\n",
    "    -------\n",
    "    float\n",
    "        Approximation of the integral of f(x) from a to b using\n",
    "        Simpson's rule with N subintervals of equal length.\n",
    "\n",
    "    Examples\n",
    "    --------\n",
    "    >>> simps(lambda x : 3*x**2,0,1,10)\n",
    "    1.0\n",
    "    '''\n",
    "    if N % 2 == 1:\n",
    "        raise ValueError(\"N must be an even integer.\")\n",
    "    dx = (b-a)/N\n",
    "    x = np.linspace(a,b,N+1)\n",
    "    y = f(x)\n",
    "    S = dx/3 * np.sum(y[0:-1:2] + 4*y[1::2] + y[2::2])\n",
    "    return S"
   ]
  },
  {
   "cell_type": "code",
   "execution_count": 25,
   "metadata": {},
   "outputs": [
    {
     "data": {
      "text/plain": [
       "1.0000000000000338"
      ]
     },
     "execution_count": 25,
     "metadata": {},
     "output_type": "execute_result"
    }
   ],
   "source": [
    "simps(np.sin,0,np.pi/2,1000)"
   ]
  },
  {
   "cell_type": "markdown",
   "metadata": {},
   "source": [
    "### Função da biblioteca Scipy"
   ]
  },
  {
   "cell_type": "markdown",
   "metadata": {},
   "source": [
    "A biblioteca Scipy já tem implementada a função [scipy.integrate.simps](https://docs.scipy.org/doc/scipy/reference/generated/scipy.integrate.simps.html#scipy.integrate.simps)."
   ]
  },
  {
   "cell_type": "code",
   "execution_count": 21,
   "metadata": {},
   "outputs": [
    {
     "data": {
      "text/plain": [
       "0.8414709848078968"
      ]
     },
     "execution_count": 21,
     "metadata": {},
     "output_type": "execute_result"
    }
   ],
   "source": [
    "integrate.simps(y, x)"
   ]
  },
  {
   "cell_type": "markdown",
   "metadata": {},
   "source": [
    "## Quadratura de Gauss"
   ]
  },
  {
   "cell_type": "markdown",
   "metadata": {},
   "source": [
    "### Definição\n",
    "A regra da quadratura de gauss é uma aproximação da integral definida de uma função, sendo denotada usalmente como o a soma ponderada de valores em pontos específicos do domínio de integração. A quadratura de n pontos gaussiana é uma regra de quadratura utilizando polinômios para obter um resultado exato até polinômios de grau $2n - 1$ ou menos utilizando pontos específicos $x_i$ e com pesos $w_i$ para $i = 1, \\cdots, n$. O domínio mais comum para a integração utilizando essa regra é de $[-1,1]$, sendo a regra definida por:\n",
    "\n",
    "$$\\LARGE{\\int_{-1}^{1} f(x) dx \\approx \\sum_{i=1}^{n} w_{i}f(x_{i})}$$"
   ]
  },
  {
   "cell_type": "markdown",
   "metadata": {},
   "source": [
    "### Implementação\n"
   ]
  },
  {
   "cell_type": "code",
   "execution_count": 5,
   "metadata": {},
   "outputs": [
    {
     "data": {
      "text/plain": [
       "(0.6666666666666639, 3.552713678800501e-15)"
      ]
     },
     "execution_count": 5,
     "metadata": {},
     "output_type": "execute_result"
    }
   ],
   "source": [
    "from scipy import integrate\n",
    "f = lambda x: (7*x**3 -8*x**2-3*x+3)\n",
    "integrate.quadrature(f, -1.0, 1.0)"
   ]
  },
  {
   "cell_type": "code",
   "execution_count": 6,
   "metadata": {},
   "outputs": [
    {
     "data": {
      "text/plain": [
       "(0.841470984808241, 4.908556894278604e-10)"
      ]
     },
     "execution_count": 6,
     "metadata": {},
     "output_type": "execute_result"
    }
   ],
   "source": [
    "f = lambda x: (np.cos(x))\n",
    "integrate.quadrature(f, 0, 1.0)"
   ]
  },
  {
   "cell_type": "markdown",
   "metadata": {},
   "source": [
    "## Método de Romberg"
   ]
  },
  {
   "cell_type": "markdown",
   "metadata": {},
   "source": [
    "### Definição"
   ]
  },
  {
   "cell_type": "markdown",
   "metadata": {},
   "source": [
    "O [método de Romberg](https://en.wikipedia.org/wiki/Romberg%27s_method) utiliza a [extrapolação de Richardson](https://en.wikipedia.org/wiki/Richardson_extrapolation) repetidamente nas regras do [trapézio](https://en.wikipedia.org/wiki/Trapezoidal_rule) e [retângulo](https://en.wikipedia.org/wiki/Riemann_sum). Essa estimativas geram uma matriz triangular"
   ]
  },
  {
   "cell_type": "code",
   "execution_count": null,
   "metadata": {},
   "outputs": [],
   "source": []
  }
 ],
 "metadata": {
  "kernelspec": {
   "display_name": "Python 3",
   "language": "python",
   "name": "python3"
  },
  "language_info": {
   "codemirror_mode": {
    "name": "ipython",
    "version": 3
   },
   "file_extension": ".py",
   "mimetype": "text/x-python",
   "name": "python",
   "nbconvert_exporter": "python",
   "pygments_lexer": "ipython3",
   "version": "3.7.1"
  }
 },
 "nbformat": 4,
 "nbformat_minor": 2
}
